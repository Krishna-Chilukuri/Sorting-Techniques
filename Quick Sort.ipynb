{
 "cells": [
  {
   "cell_type": "code",
   "execution_count": 1,
   "metadata": {},
   "outputs": [],
   "source": [
    "def partition(l,low,high):#Pivot is the last element\n",
    "    pivot = l[high]\n",
    "\n",
    "    i=low-1\n",
    "\n",
    "    for j in range(low,high):\n",
    "        if l[j] <= pivot:\n",
    "            i+=1\n",
    "            l[i],l[j]=l[j],l[i]\n",
    "    i=i+1\n",
    "    l[i],l[high]=l[high],l[i]\n",
    "    return i\n",
    "\n",
    "def partition_midpov(l,low,high):#Pivot is the mid element\n",
    "    pivot = l[(high-low)//2 + low]\n",
    "\n",
    "    i=low-1\n",
    "    j=high+1\n",
    "\n",
    "    while True:\n",
    "        i=i+1\n",
    "        while l[i] < pivot:\n",
    "            i=i+1\n",
    "        \n",
    "        j=j-1\n",
    "        while l[j] > pivot:\n",
    "            j=j-1\n",
    "        \n",
    "        if i>=j:\n",
    "            return j\n",
    "        \n",
    "        l[i],l[j]=l[j],l[i]"
   ]
  },
  {
   "cell_type": "code",
   "execution_count": 2,
   "metadata": {},
   "outputs": [
    {
     "name": "stdout",
     "output_type": "stream",
     "text": [
      "Before:  [1, 5, 2, 9, 5, 2, 3, 6, 2, 1, 4, 1, 5, 2, 51, 2, 12, 3, 123, 123, 42, 24, 24, 4645, 64, 2, 3, 2, 1, 14] 30\n",
      "After :  [1, 1, 1, 1, 2, 2, 2, 2, 2, 2, 2, 3, 3, 3, 4, 5, 5, 5, 6, 9, 12, 14, 24, 24, 42, 51, 64, 123, 123, 4645] 30\n"
     ]
    }
   ],
   "source": [
    "def quick_sort(l,low,high):\n",
    "    if low >= high or low < 0:\n",
    "        return\n",
    "    \n",
    "    # pivot = partition(l,low,high)\n",
    "\n",
    "    pivot = partition_midpov(l,low,high)\n",
    "\n",
    "    # quick_sort(l,low,pivot-1)#These are used when partition is done at end\n",
    "    # quick_sort(l,pivot+1,high)\n",
    "\n",
    "    quick_sort(l,low,pivot)\n",
    "    quick_sort(l,pivot+1,high)\n",
    "\n",
    "\n",
    "l=[1,5,2,9,5,2,3,6,2,1,4,1,5,2,51,2,12,3,123,123,42,24,24,4645,64,2,3,2,1,14]\n",
    "print(\"Before: \",l,len(l))\n",
    "\n",
    "quick_sort(l,0,len(l)-1)\n",
    "print(\"After : \",l,len(l))"
   ]
  },
  {
   "cell_type": "code",
   "execution_count": 3,
   "metadata": {},
   "outputs": [
    {
     "name": "stdout",
     "output_type": "stream",
     "text": [
      "Before:  [1, 5, 2, 9, 5, 2, 3, 6, 2, 1, 4, 1, 5, 2, 51, 2, 12, 3, 123, 123, 42, 24, 24, 4645, 64, 2, 3, 2, 1, 14] 30\n",
      "After :  [1, 1, 1, 1, 2, 2, 2, 2, 2, 2, 2, 3, 3, 3, 4, 5, 5, 5, 6, 9, 12, 14, 24, 24, 42, 51, 64, 123, 123, 4645] 30\n"
     ]
    }
   ],
   "source": [
    "#Randomized Quick Sort\n",
    "import random\n",
    "\n",
    "def randomized_partition(l, low, high):\n",
    "    pivot = random.randint(low, high)\n",
    "    l[high], l[pivot] = l[pivot], l[high]\n",
    "    return partition(l, low, high)\n",
    "\n",
    "def randomized_quick_sort(l, low, high):\n",
    "    if low >= high or low < 0:\n",
    "        return\n",
    "    \n",
    "    pivot = randomized_partition(l, low, high)\n",
    "    randomized_quick_sort(l, low, pivot - 1)\n",
    "    randomized_quick_sort(l, pivot + 1, high)\n",
    "\n",
    "l=[1,5,2,9,5,2,3,6,2,1,4,1,5,2,51,2,12,3,123,123,42,24,24,4645,64,2,3,2,1,14]\n",
    "print(\"Before: \",l,len(l))\n",
    "\n",
    "randomized_quick_sort(l,0,len(l)-1)\n",
    "print(\"After : \",l,len(l))"
   ]
  }
 ],
 "metadata": {
  "kernelspec": {
   "display_name": "base",
   "language": "python",
   "name": "python3"
  },
  "language_info": {
   "codemirror_mode": {
    "name": "ipython",
    "version": 3
   },
   "file_extension": ".py",
   "mimetype": "text/x-python",
   "name": "python",
   "nbconvert_exporter": "python",
   "pygments_lexer": "ipython3",
   "version": "3.9.13"
  },
  "orig_nbformat": 4
 },
 "nbformat": 4,
 "nbformat_minor": 2
}
