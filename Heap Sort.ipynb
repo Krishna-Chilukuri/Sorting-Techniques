{
 "cells": [
  {
   "cell_type": "code",
   "execution_count": 4,
   "metadata": {},
   "outputs": [
    {
     "name": "stdout",
     "output_type": "stream",
     "text": [
      "Before:  [1, 5, 2, 9, 5, 2, 3, 6, 2, 1, 4, 1, 5, 2, 51, 2, 12, 3, 123, 123, 42, 24, 24, 4645, 64, 2, 3, 2, 1, 14] 30\n",
      "After :  [1, 1, 1, 1, 2, 2, 2, 2, 2, 2, 2, 3, 3, 3, 4, 5, 5, 5, 6, 9, 12, 14, 24, 24, 42, 51, 64, 123, 123, 4645] 30\n"
     ]
    }
   ],
   "source": [
    "def max_heapify(l, lenOfList, i):\n",
    "    largest = i\n",
    "    leftIndex = 2 * i + 1\n",
    "    rightIndex = 2 * i + 2\n",
    "\n",
    "    if leftIndex < lenOfList and l[largest] < l[leftIndex]:\n",
    "        largest = leftIndex\n",
    "    if rightIndex < lenOfList and l[largest] < l[rightIndex]:\n",
    "        largest = rightIndex\n",
    "    if largest != i :\n",
    "        l[largest], l[i] = l[i], l[largest]\n",
    "        max_heapify(l, lenOfList, largest)\n",
    "\n",
    "\n",
    "def heap_sort(l):\n",
    "    lenOfList = len(l)\n",
    "\n",
    "    for i in range(lenOfList // 2 - 1, -1, -1):\n",
    "        max_heapify(l, lenOfList, i)\n",
    "    \n",
    "    for i in range(lenOfList - 1, 0, -1):\n",
    "        l[i], l[0] = l[0], l[i]\n",
    "        max_heapify(l, i, 0)\n",
    "\n",
    "l=[1,5,2,9,5,2,3,6,2,1,4,1,5,2,51,2,12,3,123,123,42,24,24,4645,64,2,3,2,1,14]\n",
    "print(\"Before: \",l,len(l))\n",
    "\n",
    "heap_sort(l)\n",
    "print(\"After : \",l,len(l))"
   ]
  },
  {
   "cell_type": "code",
   "execution_count": 8,
   "metadata": {},
   "outputs": [
    {
     "name": "stdout",
     "output_type": "stream",
     "text": [
      "Before:  [1, 5, 2, 9, 5, 2, 3, 6, 2, 1, 4, 1, 5, 2, 51, 2, 12, 3, 123, 123, 42, 24, 24, 4645, 64, 2, 3, 2, 1, 14] 30\n",
      "After :  [4645, 123, 123, 64, 51, 42, 24, 24, 14, 12, 9, 6, 5, 5, 5, 4, 3, 3, 3, 2, 2, 2, 2, 2, 2, 2, 1, 1, 1, 1] 30\n"
     ]
    }
   ],
   "source": [
    "def min_heapify(l, lenOfList, i):\n",
    "    smallest = i\n",
    "    leftIndex = 2 * i + 1\n",
    "    rightIndex = 2 * i + 2\n",
    "\n",
    "    if leftIndex < lenOfList and l[smallest] > l[leftIndex]:\n",
    "        smallest = leftIndex\n",
    "    if rightIndex < lenOfList and l[smallest] > l[rightIndex]:\n",
    "        smallest = rightIndex\n",
    "    if smallest != i :\n",
    "        l[smallest], l[i] = l[i], l[smallest]\n",
    "        min_heapify(l, lenOfList, smallest)\n",
    "\n",
    "\n",
    "def min_heap_sort(l):\n",
    "    lenOfList = len(l)\n",
    "\n",
    "    for i in range(lenOfList // 2 - 1, -1, -1):\n",
    "        min_heapify(l, lenOfList, i)\n",
    "    \n",
    "    for i in range(lenOfList - 1, 0, -1):\n",
    "        l[i], l[0] = l[0], l[i]\n",
    "        min_heapify(l, i, 0)\n",
    "\n",
    "l=[1,5,2,9,5,2,3,6,2,1,4,1,5,2,51,2,12,3,123,123,42,24,24,4645,64,2,3,2,1,14]\n",
    "print(\"Before: \",l,len(l))\n",
    "\n",
    "min_heap_sort(l)\n",
    "print(\"After : \",l,len(l))"
   ]
  }
 ],
 "metadata": {
  "kernelspec": {
   "display_name": "base",
   "language": "python",
   "name": "python3"
  },
  "language_info": {
   "codemirror_mode": {
    "name": "ipython",
    "version": 3
   },
   "file_extension": ".py",
   "mimetype": "text/x-python",
   "name": "python",
   "nbconvert_exporter": "python",
   "pygments_lexer": "ipython3",
   "version": "3.9.13"
  }
 },
 "nbformat": 4,
 "nbformat_minor": 2
}
