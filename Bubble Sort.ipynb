{
 "cells": [
  {
   "cell_type": "code",
   "execution_count": 3,
   "metadata": {},
   "outputs": [
    {
     "name": "stdout",
     "output_type": "stream",
     "text": [
      "Before:  [1, 5, 2, 9, 5, 2, 3, 6, 2, 1, 4, 1, 5, 2, 51, 2, 12, 3, 123, 123, 42, 24, 24, 4645, 64, 2, 3, 2, 1, 14] 30\n",
      "After :  [1, 1, 1, 1, 2, 2, 2, 2, 2, 2, 2, 3, 3, 3, 4, 5, 5, 5, 6, 9, 12, 14, 24, 24, 42, 51, 64, 123, 123, 4645] 30\n"
     ]
    }
   ],
   "source": [
    "def bubble_sort_kp(l):\n",
    "    for i in range(0,len(l)):\n",
    "        for j in range(i,len(l)):\n",
    "            if l[i]>l[j]:\n",
    "                l[i],l[j]=l[j],l[i]\n",
    "\n",
    "l=[1,5,2,9,5,2,3,6,2,1,4,1,5,2,51,2,12,3,123,123,42,24,24,4645,64,2,3,2,1,14]\n",
    "print(\"Before: \",l,len(l))\n",
    "\n",
    "bubble_sort_kp(l)\n",
    "print(\"After : \",l,len(l))"
   ]
  },
  {
   "cell_type": "code",
   "execution_count": 11,
   "metadata": {},
   "outputs": [
    {
     "name": "stdout",
     "output_type": "stream",
     "text": [
      "Before:  [1, 5, 2, 9, 5, 2, 3, 6, 2, 1, 4, 1, 5, 2, 51, 2, 12, 3, 123, 123, 42, 24, 24, 4645, 64, 2, 3, 2, 1, 14] 30\n",
      "List is sorted after 25 iterations\n",
      "After :  [1, 1, 1, 1, 2, 2, 2, 2, 2, 2, 2, 3, 3, 3, 4, 5, 5, 5, 6, 9, 12, 14, 24, 24, 42, 51, 64, 123, 123, 4645] 30\n"
     ]
    }
   ],
   "source": [
    "def bubble_sort(l):\n",
    "    for j in range(len(l)):\n",
    "        swap_stat=False\n",
    "        for i in range(0,len(l)-j-1):\n",
    "            if l[i] > l[i+1]:\n",
    "                l[i],l[i+1]=l[i+1],l[i]\n",
    "                swap_stat=True\n",
    "        if swap_stat == False:\n",
    "            print(\"List is sorted after\",j,\"iterations\")\n",
    "            break\n",
    "\n",
    "l=[1,5,2,9,5,2,3,6,2,1,4,1,5,2,51,2,12,3,123,123,42,24,24,4645,64,2,3,2,1,14]\n",
    "print(\"Before: \",l,len(l))\n",
    "\n",
    "bubble_sort(l)\n",
    "print(\"After : \",l,len(l))\n"
   ]
  }
 ],
 "metadata": {
  "kernelspec": {
   "display_name": "base",
   "language": "python",
   "name": "python3"
  },
  "language_info": {
   "codemirror_mode": {
    "name": "ipython",
    "version": 3
   },
   "file_extension": ".py",
   "mimetype": "text/x-python",
   "name": "python",
   "nbconvert_exporter": "python",
   "pygments_lexer": "ipython3",
   "version": "3.9.13"
  },
  "orig_nbformat": 4
 },
 "nbformat": 4,
 "nbformat_minor": 2
}
