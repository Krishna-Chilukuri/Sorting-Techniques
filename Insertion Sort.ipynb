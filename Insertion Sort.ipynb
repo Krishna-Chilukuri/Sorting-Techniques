{
 "cells": [
  {
   "cell_type": "code",
   "execution_count": 1,
   "metadata": {},
   "outputs": [
    {
     "name": "stdout",
     "output_type": "stream",
     "text": [
      "Before:  [1, 5, 2, 9, 5, 2, 3, 6, 2, 1, 4, 1, 5, 2, 51, 2, 12, 3, 123, 123, 42, 24, 24, 4645, 64, 2, 3, 2, 1, 14] 30\n",
      "After :  [1, 1, 1, 1, 2, 2, 2, 2, 2, 2, 2, 3, 3, 3, 4, 5, 5, 5, 6, 9, 12, 14, 24, 24, 42, 51, 64, 123, 123, 4645] 30\n"
     ]
    }
   ],
   "source": [
    "def insertion_sort(l):\n",
    "    for i in range(1,len(l)):\n",
    "        ele=l[i]\n",
    "        j=i-1\n",
    "        while j>=0 and l[j]>ele:\n",
    "            l[j+1]=l[j]\n",
    "            j-=1\n",
    "        l[j+1]=ele\n",
    "\n",
    "l=[1,5,2,9,5,2,3,6,2,1,4,1,5,2,51,2,12,3,123,123,42,24,24,4645,64,2,3,2,1,14]\n",
    "print(\"Before: \",l,len(l))\n",
    "\n",
    "insertion_sort(l)\n",
    "print(\"After : \",l,len(l))"
   ]
  },
  {
   "cell_type": "code",
   "execution_count": 1,
   "metadata": {},
   "outputs": [
    {
     "name": "stdout",
     "output_type": "stream",
     "text": [
      "Before:  [1, 5, 2, 9, 5, 2, 3, 6, 2, 1, 4, 1, 5, 2, 51, 2, 12, 3, 123, 123, 42, 24, 24, 4645, 64, 2, 3, 2, 1, 14] 30\n",
      "After :  [4645, 123, 123, 64, 51, 42, 24, 24, 14, 12, 9, 6, 5, 5, 5, 4, 3, 3, 3, 2, 2, 2, 2, 2, 2, 2, 1, 1, 1, 1] 30\n"
     ]
    }
   ],
   "source": [
    "def insertion_sort(l):#Reverse Insertion Sort = Monotonically decreasing\n",
    "    for i in range(1,len(l)):\n",
    "        ele=l[i]\n",
    "        j=i-1\n",
    "        while j>=0 and l[j]<ele:\n",
    "            l[j+1]=l[j]\n",
    "            j-=1\n",
    "        l[j+1]=ele\n",
    "\n",
    "l=[1,5,2,9,5,2,3,6,2,1,4,1,5,2,51,2,12,3,123,123,42,24,24,4645,64,2,3,2,1,14]\n",
    "print(\"Before: \",l,len(l))\n",
    "\n",
    "insertion_sort(l)\n",
    "print(\"After : \",l,len(l))"
   ]
  },
  {
   "cell_type": "code",
   "execution_count": 4,
   "metadata": {},
   "outputs": [
    {
     "name": "stdout",
     "output_type": "stream",
     "text": [
      "Before:  [1, 5, 2, 9, 5, 2, 3, 6, 2, 1, 4, 1, 5, 2, 51, 2, 12, 3, 123, 123, 42, 24, 24, 4645, 64, 2, 3, 2, 1, 14] 30\n",
      "After :  [1, 1, 1, 1, 2, 2, 2, 2, 2, 2, 2, 3, 3, 3, 4, 5, 5, 5, 6, 9, 12, 14, 24, 24, 42, 51, 64, 123, 123, 4645] 30\n"
     ]
    }
   ],
   "source": [
    "def insertion_sort_rec(l,n):# Using Recursion\n",
    "    if n>0:\n",
    "        insertion_sort_rec(l,n-1)\n",
    "        ele=l[n]\n",
    "        j=n-1\n",
    "        while j>=0 and l[j]>ele:\n",
    "            l[j+1]=l[j]\n",
    "            j-=1\n",
    "        l[j+1]=ele\n",
    "\n",
    "l=[1,5,2,9,5,2,3,6,2,1,4,1,5,2,51,2,12,3,123,123,42,24,24,4645,64,2,3,2,1,14]\n",
    "print(\"Before: \",l,len(l))\n",
    "\n",
    "insertion_sort_rec(l,len(l)-1)\n",
    "print(\"After : \",l,len(l))"
   ]
  }
 ],
 "metadata": {
  "kernelspec": {
   "display_name": "base",
   "language": "python",
   "name": "python3"
  },
  "language_info": {
   "codemirror_mode": {
    "name": "ipython",
    "version": 3
   },
   "file_extension": ".py",
   "mimetype": "text/x-python",
   "name": "python",
   "nbconvert_exporter": "python",
   "pygments_lexer": "ipython3",
   "version": "3.9.13"
  },
  "orig_nbformat": 4
 },
 "nbformat": 4,
 "nbformat_minor": 2
}
