{
 "cells": [
  {
   "cell_type": "code",
   "execution_count": 13,
   "metadata": {},
   "outputs": [
    {
     "name": "stdout",
     "output_type": "stream",
     "text": [
      "Before:  [1, 5, 2, 9, 5, 2, 3, 6, 2, 1, 4, 1, 5, 2, 51, 2, 12, 3, 123, 123, 42, 24, 24, 4645, 64, 2, 3, 2, 1, 14] 30\n",
      "After :  [1, 1, 1, 1, 2, 2, 2, 2, 2, 2, 2, 3, 3, 3, 4, 5, 5, 5, 6, 9, 12, 14, 24, 24, 42, 51, 64, 123, 123, 4645] 30\n"
     ]
    }
   ],
   "source": [
    "def MergeSort(l, left, right):\n",
    "    if left >= right:\n",
    "        return\n",
    "    mid = (left + right) // 2\n",
    "    MergeSort(l, left, mid)\n",
    "    MergeSort(l, mid+1, right)\n",
    "    Merge(l, left, mid, right)\n",
    "\n",
    "def Merge(l, left, mid, right):\n",
    "    leftPart = l[left:mid+1].copy()\n",
    "    rightPart = l[mid+1:right+1].copy()\n",
    "\n",
    "    lIndex = 0\n",
    "    rIndex = 0\n",
    "    ogListIndex = left\n",
    "\n",
    "    while lIndex < len(leftPart) and rIndex < len(rightPart):\n",
    "        if leftPart[lIndex] <= rightPart[rIndex]:\n",
    "            l[ogListIndex] = leftPart[lIndex]\n",
    "            lIndex += 1\n",
    "        else:\n",
    "            l[ogListIndex] = rightPart[rIndex]\n",
    "            rIndex += 1\n",
    "        ogListIndex += 1\n",
    "    while lIndex < len(leftPart):\n",
    "        l[ogListIndex] = leftPart[lIndex]\n",
    "        lIndex += 1\n",
    "        ogListIndex += 1\n",
    "    while rIndex < len(rightPart):\n",
    "        l[ogListIndex] = rightPart[rIndex]\n",
    "        rIndex += 1\n",
    "        ogListIndex += 1\n",
    "\n",
    "l=[1,5,2,9,5,2,3,6,2,1,4,1,5,2,51,2,12,3,123,123,42,24,24,4645,64,2,3,2,1,14]\n",
    "print(\"Before: \",l,len(l))\n",
    "\n",
    "MergeSort(l, 0, len(l))\n",
    "print(\"After : \",l,len(l))"
   ]
  }
 ],
 "metadata": {
  "kernelspec": {
   "display_name": "base",
   "language": "python",
   "name": "python3"
  },
  "language_info": {
   "codemirror_mode": {
    "name": "ipython",
    "version": 3
   },
   "file_extension": ".py",
   "mimetype": "text/x-python",
   "name": "python",
   "nbconvert_exporter": "python",
   "pygments_lexer": "ipython3",
   "version": "3.9.13"
  }
 },
 "nbformat": 4,
 "nbformat_minor": 2
}
